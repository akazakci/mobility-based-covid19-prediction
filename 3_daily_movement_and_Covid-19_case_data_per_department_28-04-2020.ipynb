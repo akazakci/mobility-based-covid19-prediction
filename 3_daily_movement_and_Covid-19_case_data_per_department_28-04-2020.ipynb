{
 "cells": [
  {
   "cell_type": "markdown",
   "metadata": {},
   "source": [
    "# Preparing FB movement data for fitting (updated on 28-04-2020)\n"
   ]
  },
  {
   "cell_type": "markdown",
   "metadata": {},
   "source": [
    "_Akin Kazakci, Mines ParisTech - PSL University_"
   ]
  },
  {
   "cell_type": "markdown",
   "metadata": {},
   "source": [
    "Input:\n",
    "- movement_with_density_code_insee_'date'.csv\n",
    "Output:\n",
    "- \n",
    "    "
   ]
  },
  {
   "cell_type": "markdown",
   "metadata": {},
   "source": [
    "The objective in this notebook is to build new features based on  Facebook Population and Density datasets. Essentially, these new features will be agregations of movement related quantities per department and per time slice.\n",
    "\n",
    "The reason why we need to agregate these quantities at the department level is this: we currenly only have observations of Covid-19 incidences at the departmental level; thus in later notebooks we will build predictions at the departmental level. "
   ]
  },
  {
   "cell_type": "code",
   "execution_count": 2,
   "metadata": {},
   "outputs": [],
   "source": [
    "import pandas as pd\n",
    "import matplotlib.pyplot as plt \n",
    "%matplotlib inline\n",
    "import matplotlib\n",
    "import numpy as np"
   ]
  },
  {
   "cell_type": "code",
   "execution_count": 3,
   "metadata": {},
   "outputs": [],
   "source": [
    "# movement_with_density_code_insee corresponds to the merge of movement and population density data.\n",
    "moves = pd.read_csv('movement_with_density_code_insee_07-05-2020.csv', index_col = 0)"
   ]
  },
  {
   "cell_type": "code",
   "execution_count": 4,
   "metadata": {},
   "outputs": [],
   "source": [
    "moves = moves[[ 'date_time', \n",
    "    'start_polygon_id', 'start_polygon_name', # keep those cause incoming traffic / graph \n",
    "    'end_polygon_id', 'end_polygon_name', \n",
    "    'length_km',  # size of polygon is an interesting feature a priori, or is this length of movement? even better\n",
    "    'n_crisis', 'n_baseline', 'n_difference',\n",
    "    'percent_change', \n",
    "    'date', #key\n",
    "    'end_code_insee',  'start_code_insee',  #keys\n",
    "    'end_density_crisis', 'end_density_baseline',\n",
    "    'start_density_crisis',\n",
    "    'start_density_baseline' ]]"
   ]
  },
  {
   "cell_type": "code",
   "execution_count": 5,
   "metadata": {},
   "outputs": [],
   "source": [
    "# I will change the variable names 'n_crisis', 'n_baseline', 'n_difference','percent_change' to 'movement',\n",
    "# 'movement_baseline','movement', 'movement_baseline','movement_difference', 'movement_percent_change'\n",
    "       \n",
    "moves.columns =  ['date_time', 'start_polygon_id', 'start_polygon_name', 'end_polygon_id',\n",
    "       'end_polygon_name', 'length_km', 'movement', 'movement_baseline',\n",
    "       'movement_difference', 'movement_percent_change', 'date', 'end_code_insee',\n",
    "       'start_code_insee', 'end_density_crisis', 'end_density_baseline',\n",
    "       'start_density_crisis', 'start_density_baseline']"
   ]
  },
  {
   "cell_type": "code",
   "execution_count": 6,
   "metadata": {},
   "outputs": [],
   "source": [
    "moves['date_time'] = pd.to_datetime(moves['date_time'])"
   ]
  },
  {
   "cell_type": "code",
   "execution_count": 7,
   "metadata": {},
   "outputs": [],
   "source": [
    "moves['time']=moves['date_time'].apply(lambda x: x.time())"
   ]
  },
  {
   "cell_type": "code",
   "execution_count": 8,
   "metadata": {},
   "outputs": [],
   "source": [
    "# A feature I think will be useful is to weight the movement by density of the origin\n",
    "# this is assuming that the denser a point is, the higher the chances it will bring infection to a destination\n",
    "# alternative / complementary: use that days number of patients\n",
    "\n",
    "moves['time']=moves['date_time'].apply(lambda x: x.time())\n",
    "moves['density_weighted_movement'] = moves['movement'] * moves['start_density_crisis']"
   ]
  },
  {
   "cell_type": "markdown",
   "metadata": {},
   "source": [
    "# Feature building strategy\n"
   ]
  },
  {
   "cell_type": "markdown",
   "metadata": {},
   "source": [
    "for each dept, we can have 3 broad categories of features.\n",
    "* *influx_to_dept* These features should capture incoming traffic to the department. The origin of the movement is outside of that dept.\n",
    "* *intra_dept_flux* Intra-departmental traffic can have a large impact on the progagation of disease in that department, even thought influx or outflux is limited.\n",
    "* outflux_from_dept* These feautres represent outgoing traffic. Assuming that, of those who leave will eventually return, this traffic _may_ have _some_ information related to disease traffic. \n",
    "\n",
    "In the current note, I will only focus on the first two.\n",
    "All of the above categories can be _weighted_ according to the population density of the origin. The density of each department is also a factor to consider. Another _weighting_ factor might be the intra-traffic of the origine. "
   ]
  },
  {
   "cell_type": "code",
   "execution_count": 9,
   "metadata": {},
   "outputs": [],
   "source": [
    "#incoming = moves.groupby(['end_code_insee','date_time'])\n",
    "intra =  moves[moves.end_code_insee == moves.start_code_insee]\n",
    "non_intra =  moves[moves.end_code_insee != moves.start_code_insee]"
   ]
  },
  {
   "cell_type": "markdown",
   "metadata": {},
   "source": [
    "For both groups, I build certain features and ignore others. The original Facebook data can be leveraged in many other ways to build features that I did not consider for the time being. One must be careful that this may have an effect on the final predictions."
   ]
  },
  {
   "cell_type": "markdown",
   "metadata": {},
   "source": [
    "# Features about intra-departemental movements"
   ]
  },
  {
   "cell_type": "markdown",
   "metadata": {},
   "source": [
    "Some basic features I shall use for the time being:"
   ]
  },
  {
   "cell_type": "markdown",
   "metadata": {},
   "source": [
    "- Node count: nbr of nodes in the subgraph\n",
    "- Average indegree: mean of indegrees for the subgraph nodes only\n",
    "- Total movement: sum of movement for the subgraph"
   ]
  },
  {
   "cell_type": "markdown",
   "metadata": {},
   "source": [
    "The following shape shows that there are very few information in Facebook movement dataset regarding movement dynamics in a given city (department). Only ~400 lines over a 50 days period with ~95 departments. As we see in the EDA_intra notebook, basically this only provides features for Paris region - the only one with significant movement during lockdown."
   ]
  },
  {
   "cell_type": "code",
   "execution_count": 16,
   "metadata": {},
   "outputs": [
    {
     "data": {
      "text/plain": [
       "(372, 19)"
      ]
     },
     "execution_count": 16,
     "metadata": {},
     "output_type": "execute_result"
    }
   ],
   "source": [
    "intra.shape"
   ]
  },
  {
   "cell_type": "code",
   "execution_count": 10,
   "metadata": {},
   "outputs": [],
   "source": [
    "intra_feat = intra.groupby(['date_time','end_code_insee'])"
   ]
  },
  {
   "cell_type": "code",
   "execution_count": 11,
   "metadata": {},
   "outputs": [
    {
     "data": {
      "text/plain": [
       "<pandas.core.groupby.generic.DataFrameGroupBy object at 0x11fe42c50>"
      ]
     },
     "execution_count": 11,
     "metadata": {},
     "output_type": "execute_result"
    }
   ],
   "source": [
    "intra_feat"
   ]
  },
  {
   "cell_type": "code",
   "execution_count": 12,
   "metadata": {},
   "outputs": [],
   "source": [
    "# HOW MANY NODES ARE ACTIVE (APPEAR IN MOVEMENT EDGE) IN A DEPARTMENT GIVEN A TIME SLICE\n",
    "appendable = []\n",
    "for name, group in intra_feat:\n",
    "    node_count = pd.Series(pd.Series(np.append(group.start_polygon_id.unique(),group.end_polygon_id.unique())).unique()).count()\n",
    "    #print (node_count)\n",
    "    appendable.append([name[0],name[1],node_count])\n",
    "    #group['intra_node_count'] = node_count"
   ]
  },
  {
   "cell_type": "code",
   "execution_count": 13,
   "metadata": {},
   "outputs": [],
   "source": [
    "intra_node_count_per_dept = pd.DataFrame(appendable, columns = ['date_time','code_insee', 'intra_node_count'])"
   ]
  },
  {
   "cell_type": "code",
   "execution_count": 14,
   "metadata": {},
   "outputs": [],
   "source": [
    "# AVERAGE EDGE COUNT FOR ACTIVE NODES IN A DEPARTMENT GIVEN A TIME SLICE\n",
    "appendable = []\n",
    "for name, group in intra_feat:\n",
    "    node_count = pd.Series(pd.Series(np.append(group.start_polygon_id.unique(),group.end_polygon_id.unique())).unique()).count()\n",
    "    edge_count = group.shape[0]\n",
    "    intra_mean_indegree = edge_count / node_count\n",
    "    appendable.append([name[0],name[1],intra_mean_indegree])\n",
    "    #group['intra_node_count'] = node_count"
   ]
  },
  {
   "cell_type": "code",
   "execution_count": 15,
   "metadata": {},
   "outputs": [],
   "source": [
    "intra_mean_indegree = pd.DataFrame(appendable, columns = ['date_time','code_insee', 'intra_mean_indegree'])"
   ]
  },
  {
   "cell_type": "code",
   "execution_count": 16,
   "metadata": {},
   "outputs": [],
   "source": [
    "# SUM OF MOVEMENT RELATED QUANTITIES IN A DEPARTMENT GIVEN A TIME SLICE\n",
    "appendable = []\n",
    "for name, group in intra_feat:\n",
    "    df = group[['movement','movement_baseline','movement_difference','end_density_crisis','end_density_baseline','start_density_crisis','start_density_baseline','length_km','density_weighted_movement']].sum()\n",
    "    alist = [name[0],name[1]]\n",
    "    alit = alist.extend(df.values.tolist())\n",
    "    #print (alist)\n",
    "    \n",
    "    appendable.append(alist)\n",
    "   # print (name[0],name[1] , df.values)\n",
    "    #group['intra_node_count'] = node_count"
   ]
  },
  {
   "cell_type": "code",
   "execution_count": 17,
   "metadata": {},
   "outputs": [],
   "source": [
    "dept_cumulative_stats = pd.DataFrame(appendable, columns = ['date_time','code_insee','intra_move','intra_move_base','intra_move_diff','intra_end_density','intra_end_dens_base','intra_start_density','intra_start_dens_base',\n",
    "                                                           'intra_length_km','intra_density_weighted_movement'])"
   ]
  },
  {
   "cell_type": "markdown",
   "metadata": {},
   "source": [
    "## The result of the previous 3 steps are the following tables"
   ]
  },
  {
   "cell_type": "code",
   "execution_count": 24,
   "metadata": {},
   "outputs": [
    {
     "data": {
      "text/html": [
       "<div>\n",
       "<style scoped>\n",
       "    .dataframe tbody tr th:only-of-type {\n",
       "        vertical-align: middle;\n",
       "    }\n",
       "\n",
       "    .dataframe tbody tr th {\n",
       "        vertical-align: top;\n",
       "    }\n",
       "\n",
       "    .dataframe thead th {\n",
       "        text-align: right;\n",
       "    }\n",
       "</style>\n",
       "<table border=\"1\" class=\"dataframe\">\n",
       "  <thead>\n",
       "    <tr style=\"text-align: right;\">\n",
       "      <th></th>\n",
       "      <th>date_time</th>\n",
       "      <th>code_insee</th>\n",
       "      <th>intra_move</th>\n",
       "      <th>intra_move_base</th>\n",
       "      <th>intra_move_diff</th>\n",
       "      <th>intra_end_density</th>\n",
       "      <th>intra_end_dens_base</th>\n",
       "      <th>intra_start_density</th>\n",
       "      <th>intra_start_dens_base</th>\n",
       "      <th>intra_length_km</th>\n",
       "      <th>intra_density_weighted_movement</th>\n",
       "    </tr>\n",
       "  </thead>\n",
       "  <tbody>\n",
       "    <tr>\n",
       "      <th>183</th>\n",
       "      <td>2020-05-05 00:00:00</td>\n",
       "      <td>75</td>\n",
       "      <td>1789.0</td>\n",
       "      <td>7997.2</td>\n",
       "      <td>-6208.2</td>\n",
       "      <td>184408.0</td>\n",
       "      <td>222484.286581</td>\n",
       "      <td>184408.0</td>\n",
       "      <td>222484.286581</td>\n",
       "      <td>13.716194</td>\n",
       "      <td>164390960.0</td>\n",
       "    </tr>\n",
       "    <tr>\n",
       "      <th>184</th>\n",
       "      <td>2020-05-05 08:00:00</td>\n",
       "      <td>75</td>\n",
       "      <td>3046.0</td>\n",
       "      <td>19369.0</td>\n",
       "      <td>-16323.0</td>\n",
       "      <td>227623.0</td>\n",
       "      <td>320162.751106</td>\n",
       "      <td>227623.0</td>\n",
       "      <td>320162.751106</td>\n",
       "      <td>13.675034</td>\n",
       "      <td>346026317.0</td>\n",
       "    </tr>\n",
       "    <tr>\n",
       "      <th>185</th>\n",
       "      <td>2020-05-05 16:00:00</td>\n",
       "      <td>75</td>\n",
       "      <td>3799.0</td>\n",
       "      <td>23514.4</td>\n",
       "      <td>-19715.4</td>\n",
       "      <td>214283.0</td>\n",
       "      <td>275856.553040</td>\n",
       "      <td>214283.0</td>\n",
       "      <td>275856.553040</td>\n",
       "      <td>13.768178</td>\n",
       "      <td>409122379.0</td>\n",
       "    </tr>\n",
       "  </tbody>\n",
       "</table>\n",
       "</div>"
      ],
      "text/plain": [
       "              date_time code_insee  intra_move  intra_move_base  \\\n",
       "183 2020-05-05 00:00:00         75      1789.0           7997.2   \n",
       "184 2020-05-05 08:00:00         75      3046.0          19369.0   \n",
       "185 2020-05-05 16:00:00         75      3799.0          23514.4   \n",
       "\n",
       "     intra_move_diff  intra_end_density  intra_end_dens_base  \\\n",
       "183          -6208.2           184408.0        222484.286581   \n",
       "184         -16323.0           227623.0        320162.751106   \n",
       "185         -19715.4           214283.0        275856.553040   \n",
       "\n",
       "     intra_start_density  intra_start_dens_base  intra_length_km  \\\n",
       "183             184408.0          222484.286581        13.716194   \n",
       "184             227623.0          320162.751106        13.675034   \n",
       "185             214283.0          275856.553040        13.768178   \n",
       "\n",
       "     intra_density_weighted_movement  \n",
       "183                      164390960.0  \n",
       "184                      346026317.0  \n",
       "185                      409122379.0  "
      ]
     },
     "execution_count": 24,
     "metadata": {},
     "output_type": "execute_result"
    }
   ],
   "source": [
    "dept_cumulative_stats.tail(3)"
   ]
  },
  {
   "cell_type": "markdown",
   "metadata": {},
   "source": [
    "where the variable names are same as in FB data, but I prefixed _intra__ since these are intra-departmental statistics. "
   ]
  },
  {
   "cell_type": "code",
   "execution_count": 19,
   "metadata": {},
   "outputs": [
    {
     "data": {
      "text/html": [
       "<div>\n",
       "<style scoped>\n",
       "    .dataframe tbody tr th:only-of-type {\n",
       "        vertical-align: middle;\n",
       "    }\n",
       "\n",
       "    .dataframe tbody tr th {\n",
       "        vertical-align: top;\n",
       "    }\n",
       "\n",
       "    .dataframe thead th {\n",
       "        text-align: right;\n",
       "    }\n",
       "</style>\n",
       "<table border=\"1\" class=\"dataframe\">\n",
       "  <thead>\n",
       "    <tr style=\"text-align: right;\">\n",
       "      <th></th>\n",
       "      <th>date_time</th>\n",
       "      <th>code_insee</th>\n",
       "      <th>intra_mean_indegree</th>\n",
       "    </tr>\n",
       "  </thead>\n",
       "  <tbody>\n",
       "    <tr>\n",
       "      <th>0</th>\n",
       "      <td>2020-03-05 00:00:00</td>\n",
       "      <td>75</td>\n",
       "      <td>1.0</td>\n",
       "    </tr>\n",
       "    <tr>\n",
       "      <th>1</th>\n",
       "      <td>2020-03-05 08:00:00</td>\n",
       "      <td>75</td>\n",
       "      <td>1.0</td>\n",
       "    </tr>\n",
       "    <tr>\n",
       "      <th>2</th>\n",
       "      <td>2020-03-05 16:00:00</td>\n",
       "      <td>75</td>\n",
       "      <td>1.0</td>\n",
       "    </tr>\n",
       "  </tbody>\n",
       "</table>\n",
       "</div>"
      ],
      "text/plain": [
       "            date_time code_insee  intra_mean_indegree\n",
       "0 2020-03-05 00:00:00         75                  1.0\n",
       "1 2020-03-05 08:00:00         75                  1.0\n",
       "2 2020-03-05 16:00:00         75                  1.0"
      ]
     },
     "execution_count": 19,
     "metadata": {},
     "output_type": "execute_result"
    }
   ],
   "source": [
    "intra_mean_indegree.head(3)"
   ]
  },
  {
   "cell_type": "code",
   "execution_count": 20,
   "metadata": {},
   "outputs": [
    {
     "data": {
      "text/html": [
       "<div>\n",
       "<style scoped>\n",
       "    .dataframe tbody tr th:only-of-type {\n",
       "        vertical-align: middle;\n",
       "    }\n",
       "\n",
       "    .dataframe tbody tr th {\n",
       "        vertical-align: top;\n",
       "    }\n",
       "\n",
       "    .dataframe thead th {\n",
       "        text-align: right;\n",
       "    }\n",
       "</style>\n",
       "<table border=\"1\" class=\"dataframe\">\n",
       "  <thead>\n",
       "    <tr style=\"text-align: right;\">\n",
       "      <th></th>\n",
       "      <th>date_time</th>\n",
       "      <th>code_insee</th>\n",
       "      <th>intra_node_count</th>\n",
       "    </tr>\n",
       "  </thead>\n",
       "  <tbody>\n",
       "    <tr>\n",
       "      <th>0</th>\n",
       "      <td>2020-03-05 00:00:00</td>\n",
       "      <td>75</td>\n",
       "      <td>2</td>\n",
       "    </tr>\n",
       "    <tr>\n",
       "      <th>1</th>\n",
       "      <td>2020-03-05 08:00:00</td>\n",
       "      <td>75</td>\n",
       "      <td>2</td>\n",
       "    </tr>\n",
       "    <tr>\n",
       "      <th>2</th>\n",
       "      <td>2020-03-05 16:00:00</td>\n",
       "      <td>75</td>\n",
       "      <td>2</td>\n",
       "    </tr>\n",
       "  </tbody>\n",
       "</table>\n",
       "</div>"
      ],
      "text/plain": [
       "            date_time code_insee  intra_node_count\n",
       "0 2020-03-05 00:00:00         75                 2\n",
       "1 2020-03-05 08:00:00         75                 2\n",
       "2 2020-03-05 16:00:00         75                 2"
      ]
     },
     "execution_count": 20,
     "metadata": {},
     "output_type": "execute_result"
    }
   ],
   "source": [
    "intra_node_count_per_dept.head(3)"
   ]
  },
  {
   "cell_type": "code",
   "execution_count": 27,
   "metadata": {},
   "outputs": [
    {
     "data": {
      "text/plain": [
       "75    186\n",
       "Name: code_insee, dtype: int64"
      ]
     },
     "execution_count": 27,
     "metadata": {},
     "output_type": "execute_result"
    }
   ],
   "source": [
    "intra_node_count_per_dept.code_insee.value_counts()"
   ]
  },
  {
   "cell_type": "code",
   "execution_count": 23,
   "metadata": {},
   "outputs": [
    {
     "name": "stdout",
     "output_type": "stream",
     "text": [
      "(186, 11) (186, 3) (186, 3)\n"
     ]
    }
   ],
   "source": [
    "df = dept_cumulative_stats\n",
    "df = intra_node_count_per_dept\n",
    "df = intra_mean_indegree\n",
    "print(dept_cumulative_stats.shape,intra_node_count_per_dept.shape,intra_mean_indegree.shape)\n"
   ]
  },
  {
   "cell_type": "markdown",
   "metadata": {},
   "source": [
    "## Merging the previous three tables to obtain one table for all intra-departmental features."
   ]
  },
  {
   "cell_type": "code",
   "execution_count": 30,
   "metadata": {},
   "outputs": [],
   "source": [
    "intra_stats_per_dept = pd.merge(intra_mean_indegree,intra_node_count_per_dept, how='left', on= ['code_insee','date_time'])"
   ]
  },
  {
   "cell_type": "code",
   "execution_count": 31,
   "metadata": {},
   "outputs": [],
   "source": [
    "intra_stats_per_dept = pd.merge(intra_stats_per_dept, dept_cumulative_stats, how = 'left', on= ['code_insee','date_time'])"
   ]
  },
  {
   "cell_type": "code",
   "execution_count": 33,
   "metadata": {},
   "outputs": [
    {
     "data": {
      "text/plain": [
       "(186, 13)"
      ]
     },
     "execution_count": 33,
     "metadata": {},
     "output_type": "execute_result"
    }
   ],
   "source": [
    "intra_stats_per_dept.shape"
   ]
  },
  {
   "cell_type": "code",
   "execution_count": 34,
   "metadata": {},
   "outputs": [
    {
     "data": {
      "text/plain": [
       "(186,)"
      ]
     },
     "execution_count": 34,
     "metadata": {},
     "output_type": "execute_result"
    }
   ],
   "source": [
    "intra_stats_per_dept.date_time.unique().shape"
   ]
  },
  {
   "cell_type": "code",
   "execution_count": 35,
   "metadata": {},
   "outputs": [
    {
     "data": {
      "text/plain": [
       "Index(['date_time', 'code_insee', 'intra_mean_indegree', 'intra_node_count',\n",
       "       'intra_move', 'intra_move_base', 'intra_move_diff', 'intra_end_density',\n",
       "       'intra_end_dens_base', 'intra_start_density', 'intra_start_dens_base',\n",
       "       'intra_length_km', 'intra_density_weighted_movement'],\n",
       "      dtype='object')"
      ]
     },
     "execution_count": 35,
     "metadata": {},
     "output_type": "execute_result"
    }
   ],
   "source": [
    "intra_stats_per_dept.columns"
   ]
  },
  {
   "cell_type": "code",
   "execution_count": 36,
   "metadata": {},
   "outputs": [],
   "source": [
    "intra_stats_per_dept['date'] = pd.to_datetime(intra_stats_per_dept.date_time).apply(lambda x: x.date())\n",
    "intra_stats_per_dept['time'] = pd.to_datetime(intra_stats_per_dept.date_time).apply(lambda x: x.time())\n",
    "intra_stats_per_dept = intra_stats_per_dept.fillna(0)"
   ]
  },
  {
   "cell_type": "code",
   "execution_count": 37,
   "metadata": {},
   "outputs": [],
   "source": [
    "intra_stats_per_dept.to_csv('intra_flux.csv')"
   ]
  },
  {
   "cell_type": "markdown",
   "metadata": {},
   "source": [
    "# Features about inter-departemental movements"
   ]
  },
  {
   "cell_type": "markdown",
   "metadata": {},
   "source": [
    "Here, we shall consider quantities that will affect an end polygon: that is, we will build quantities that represent incoming movement to an end polygon, assuming that these movements might be correlated to the Covid-19 propagation."
   ]
  },
  {
   "cell_type": "code",
   "execution_count": 25,
   "metadata": {},
   "outputs": [
    {
     "data": {
      "text/plain": [
       "(50655, 19)"
      ]
     },
     "execution_count": 25,
     "metadata": {},
     "output_type": "execute_result"
    }
   ],
   "source": [
    "non_intra.shape"
   ]
  },
  {
   "cell_type": "code",
   "execution_count": 31,
   "metadata": {},
   "outputs": [],
   "source": [
    "#incoming features; movements coming _to_ department\n",
    "#this is an important cell: it basically is the fundamental feature building block of our pipeline\n",
    "#there surely is some place to creativity here\n",
    "\n",
    "influx_to_dept = non_intra.groupby(['end_code_insee', 'date_time'], as_index = False).agg( #'start_code_insee',\n",
    "    {\n",
    "        'length_km':'sum',  # sum of distance covered during moves\n",
    "        'movement':'sum',   # total movement coming to department\n",
    "        'movement_baseline':'sum', # total baseline movement coming to department - before the crisis happened\n",
    "        'movement_difference':'sum',\n",
    "        'movement_percent_change':'sum', # bad idea cause - and + compensate\n",
    "        'density_weighted_movement':'sum'\n",
    "    }\n",
    ")\n",
    "influx_to_dept.sort_values(['end_code_insee','date_time'], inplace=True)\n",
    "influx_to_dept.rename(columns = {'end_code_insee':'code_insee'}, inplace= True)"
   ]
  },
  {
   "cell_type": "code",
   "execution_count": 42,
   "metadata": {},
   "outputs": [
    {
     "data": {
      "text/plain": [
       "(14675, 8)"
      ]
     },
     "execution_count": 42,
     "metadata": {},
     "output_type": "execute_result"
    }
   ],
   "source": [
    "influx_to_dept.shape"
   ]
  },
  {
   "cell_type": "code",
   "execution_count": 32,
   "metadata": {},
   "outputs": [
    {
     "data": {
      "text/plain": [
       "157.79569892473117"
      ]
     },
     "execution_count": 32,
     "metadata": {},
     "output_type": "execute_result"
    }
   ],
   "source": [
    "influx_to_dept.shape[0] / influx_to_dept.code_insee.unique().shape[0]"
   ]
  },
  {
   "cell_type": "code",
   "execution_count": 41,
   "metadata": {},
   "outputs": [
    {
     "data": {
      "text/plain": [
       "(186,)"
      ]
     },
     "execution_count": 41,
     "metadata": {},
     "output_type": "execute_result"
    }
   ],
   "source": [
    "# we have 186 unique time steps (3/5 to 5/5 x 3 time slices)\n",
    "influx_to_dept.date_time.unique().shape"
   ]
  },
  {
   "cell_type": "markdown",
   "metadata": {},
   "source": [
    "### Almost all departments are represented in almost all time steps in the influx_to dataframe. The Facebook movement dataset seems essentially to be useful when we consider inter-departmental movements."
   ]
  },
  {
   "cell_type": "code",
   "execution_count": 40,
   "metadata": {},
   "outputs": [
    {
     "data": {
      "text/plain": [
       "76     186\n",
       "72     186\n",
       "14     186\n",
       "69D    186\n",
       "93     186\n",
       "07     186\n",
       "34     186\n",
       "27     186\n",
       "43     186\n",
       "95     186\n",
       "94     186\n",
       "42     186\n",
       "01     186\n",
       "59     186\n",
       "61     186\n",
       "78     186\n",
       "71     186\n",
       "60     186\n",
       "33     186\n",
       "24     186\n",
       "75     186\n",
       "62     186\n",
       "13     186\n",
       "77     186\n",
       "84     186\n",
       "38     186\n",
       "57     186\n",
       "91     186\n",
       "30     186\n",
       "26     186\n",
       "      ... \n",
       "46     157\n",
       "18     156\n",
       "50     151\n",
       "88     148\n",
       "11     146\n",
       "45     146\n",
       "41     145\n",
       "63     142\n",
       "32     140\n",
       "37     140\n",
       "47     139\n",
       "55     131\n",
       "03     128\n",
       "89     128\n",
       "65     126\n",
       "53     124\n",
       "12     122\n",
       "52     120\n",
       "04     118\n",
       "79     114\n",
       "36     113\n",
       "86     104\n",
       "09     101\n",
       "08      99\n",
       "66      67\n",
       "05      65\n",
       "87      63\n",
       "23      37\n",
       "15      18\n",
       "48       7\n",
       "Name: code_insee, Length: 93, dtype: int64"
      ]
     },
     "execution_count": 40,
     "metadata": {},
     "output_type": "execute_result"
    },
    {
     "data": {
      "image/png": "[encoded data removed]",
      "text/plain": [
       "<Figure size 432x288 with 1 Axes>"
      ]
     },
     "metadata": {
      "needs_background": "light"
     },
     "output_type": "display_data"
    }
   ],
   "source": [
    "# almost all departments are represented in almost all time steps in the influx_to dataframe.\n",
    "import seaborn as sns\n",
    "sns.distplot(influx_to_dept.code_insee.value_counts())\n",
    "influx_to_dept.code_insee.value_counts()"
   ]
  },
  {
   "cell_type": "code",
   "execution_count": 41,
   "metadata": {},
   "outputs": [],
   "source": [
    "influx_to_dept['date'] = pd.to_datetime(influx_to_dept.date_time).apply(lambda x: x.date())\n",
    "influx_to_dept['time'] = pd.to_datetime(influx_to_dept.date_time).apply(lambda x: x.time())\n",
    "influx_to_dept = influx_to_dept.fillna(0)"
   ]
  },
  {
   "cell_type": "code",
   "execution_count": 43,
   "metadata": {},
   "outputs": [],
   "source": [
    "influx_to_dept.to_csv('influx_to_dept_by_date.csv')"
   ]
  },
  {
   "cell_type": "markdown",
   "metadata": {},
   "source": [
    "# Read & Prep Department based Covid-19 data"
   ]
  },
  {
   "cell_type": "code",
   "execution_count": 44,
   "metadata": {},
   "outputs": [],
   "source": [
    "import pandas as pd\n",
    "# Data from https://www.data.gouv.fr/en/datasets/donnees-hospitalieres-relatives-a-lepidemie-de-covid-19/\n",
    "cases = pd.read_csv('donnees-hospitalieres-nouveaux-covid19-2020-05-06-19h00.csv', sep=';')"
   ]
  },
  {
   "cell_type": "code",
   "execution_count": 45,
   "metadata": {},
   "outputs": [
    {
     "data": {
      "text/html": [
       "<div>\n",
       "<style scoped>\n",
       "    .dataframe tbody tr th:only-of-type {\n",
       "        vertical-align: middle;\n",
       "    }\n",
       "\n",
       "    .dataframe tbody tr th {\n",
       "        vertical-align: top;\n",
       "    }\n",
       "\n",
       "    .dataframe thead th {\n",
       "        text-align: right;\n",
       "    }\n",
       "</style>\n",
       "<table border=\"1\" class=\"dataframe\">\n",
       "  <thead>\n",
       "    <tr style=\"text-align: right;\">\n",
       "      <th></th>\n",
       "      <th>dep</th>\n",
       "      <th>jour</th>\n",
       "      <th>incid_hosp</th>\n",
       "      <th>incid_rea</th>\n",
       "      <th>incid_dc</th>\n",
       "      <th>incid_rad</th>\n",
       "    </tr>\n",
       "  </thead>\n",
       "  <tbody>\n",
       "    <tr>\n",
       "      <th>0</th>\n",
       "      <td>01</td>\n",
       "      <td>2020-03-19</td>\n",
       "      <td>1</td>\n",
       "      <td>0</td>\n",
       "      <td>0</td>\n",
       "      <td>0</td>\n",
       "    </tr>\n",
       "    <tr>\n",
       "      <th>1</th>\n",
       "      <td>01</td>\n",
       "      <td>2020-03-20</td>\n",
       "      <td>0</td>\n",
       "      <td>0</td>\n",
       "      <td>0</td>\n",
       "      <td>1</td>\n",
       "    </tr>\n",
       "    <tr>\n",
       "      <th>2</th>\n",
       "      <td>01</td>\n",
       "      <td>2020-03-21</td>\n",
       "      <td>4</td>\n",
       "      <td>0</td>\n",
       "      <td>0</td>\n",
       "      <td>0</td>\n",
       "    </tr>\n",
       "  </tbody>\n",
       "</table>\n",
       "</div>"
      ],
      "text/plain": [
       "  dep        jour  incid_hosp  incid_rea  incid_dc  incid_rad\n",
       "0  01  2020-03-19           1          0         0          0\n",
       "1  01  2020-03-20           0          0         0          1\n",
       "2  01  2020-03-21           4          0         0          0"
      ]
     },
     "execution_count": 45,
     "metadata": {},
     "output_type": "execute_result"
    }
   ],
   "source": [
    "cases.head(3)"
   ]
  },
  {
   "cell_type": "code",
   "execution_count": 46,
   "metadata": {},
   "outputs": [
    {
     "data": {
      "text/plain": [
       "(101,)"
      ]
     },
     "execution_count": 46,
     "metadata": {},
     "output_type": "execute_result"
    }
   ],
   "source": [
    "cases.dep.unique().shape"
   ]
  },
  {
   "cell_type": "code",
   "execution_count": 47,
   "metadata": {},
   "outputs": [
    {
     "data": {
      "text/plain": [
       "(4949, 6)"
      ]
     },
     "execution_count": 47,
     "metadata": {},
     "output_type": "execute_result"
    }
   ],
   "source": [
    "cases.shape"
   ]
  },
  {
   "cell_type": "code",
   "execution_count": 48,
   "metadata": {
    "scrolled": true
   },
   "outputs": [
    {
     "data": {
      "text/html": [
       "<div>\n",
       "<style scoped>\n",
       "    .dataframe tbody tr th:only-of-type {\n",
       "        vertical-align: middle;\n",
       "    }\n",
       "\n",
       "    .dataframe tbody tr th {\n",
       "        vertical-align: top;\n",
       "    }\n",
       "\n",
       "    .dataframe thead th {\n",
       "        text-align: right;\n",
       "    }\n",
       "</style>\n",
       "<table border=\"1\" class=\"dataframe\">\n",
       "  <thead>\n",
       "    <tr style=\"text-align: right;\">\n",
       "      <th></th>\n",
       "      <th>code_insee</th>\n",
       "      <th>date</th>\n",
       "      <th>incid_hosp</th>\n",
       "      <th>incid_rea</th>\n",
       "      <th>incid_dc</th>\n",
       "      <th>incid_rad</th>\n",
       "      <th>c_incidence</th>\n",
       "      <th>c_reanim</th>\n",
       "      <th>c_deces</th>\n",
       "      <th>c_rad</th>\n",
       "    </tr>\n",
       "  </thead>\n",
       "  <tbody>\n",
       "    <tr>\n",
       "      <th>0</th>\n",
       "      <td>01</td>\n",
       "      <td>2020-03-19</td>\n",
       "      <td>1</td>\n",
       "      <td>0</td>\n",
       "      <td>0</td>\n",
       "      <td>0</td>\n",
       "      <td>1</td>\n",
       "      <td>0</td>\n",
       "      <td>0</td>\n",
       "      <td>0</td>\n",
       "    </tr>\n",
       "    <tr>\n",
       "      <th>1</th>\n",
       "      <td>01</td>\n",
       "      <td>2020-03-20</td>\n",
       "      <td>0</td>\n",
       "      <td>0</td>\n",
       "      <td>0</td>\n",
       "      <td>1</td>\n",
       "      <td>1</td>\n",
       "      <td>0</td>\n",
       "      <td>0</td>\n",
       "      <td>1</td>\n",
       "    </tr>\n",
       "    <tr>\n",
       "      <th>2</th>\n",
       "      <td>01</td>\n",
       "      <td>2020-03-21</td>\n",
       "      <td>4</td>\n",
       "      <td>0</td>\n",
       "      <td>0</td>\n",
       "      <td>0</td>\n",
       "      <td>5</td>\n",
       "      <td>0</td>\n",
       "      <td>0</td>\n",
       "      <td>1</td>\n",
       "    </tr>\n",
       "    <tr>\n",
       "      <th>3</th>\n",
       "      <td>01</td>\n",
       "      <td>2020-03-22</td>\n",
       "      <td>3</td>\n",
       "      <td>1</td>\n",
       "      <td>0</td>\n",
       "      <td>1</td>\n",
       "      <td>8</td>\n",
       "      <td>1</td>\n",
       "      <td>0</td>\n",
       "      <td>2</td>\n",
       "    </tr>\n",
       "    <tr>\n",
       "      <th>4</th>\n",
       "      <td>01</td>\n",
       "      <td>2020-03-23</td>\n",
       "      <td>14</td>\n",
       "      <td>1</td>\n",
       "      <td>0</td>\n",
       "      <td>5</td>\n",
       "      <td>22</td>\n",
       "      <td>2</td>\n",
       "      <td>0</td>\n",
       "      <td>7</td>\n",
       "    </tr>\n",
       "    <tr>\n",
       "      <th>5</th>\n",
       "      <td>01</td>\n",
       "      <td>2020-03-24</td>\n",
       "      <td>11</td>\n",
       "      <td>1</td>\n",
       "      <td>0</td>\n",
       "      <td>4</td>\n",
       "      <td>33</td>\n",
       "      <td>3</td>\n",
       "      <td>0</td>\n",
       "      <td>11</td>\n",
       "    </tr>\n",
       "    <tr>\n",
       "      <th>6</th>\n",
       "      <td>01</td>\n",
       "      <td>2020-03-25</td>\n",
       "      <td>13</td>\n",
       "      <td>2</td>\n",
       "      <td>0</td>\n",
       "      <td>5</td>\n",
       "      <td>46</td>\n",
       "      <td>5</td>\n",
       "      <td>0</td>\n",
       "      <td>16</td>\n",
       "    </tr>\n",
       "    <tr>\n",
       "      <th>7</th>\n",
       "      <td>01</td>\n",
       "      <td>2020-03-26</td>\n",
       "      <td>14</td>\n",
       "      <td>3</td>\n",
       "      <td>2</td>\n",
       "      <td>2</td>\n",
       "      <td>60</td>\n",
       "      <td>8</td>\n",
       "      <td>2</td>\n",
       "      <td>18</td>\n",
       "    </tr>\n",
       "    <tr>\n",
       "      <th>8</th>\n",
       "      <td>01</td>\n",
       "      <td>2020-03-27</td>\n",
       "      <td>14</td>\n",
       "      <td>2</td>\n",
       "      <td>0</td>\n",
       "      <td>0</td>\n",
       "      <td>74</td>\n",
       "      <td>10</td>\n",
       "      <td>2</td>\n",
       "      <td>18</td>\n",
       "    </tr>\n",
       "    <tr>\n",
       "      <th>9</th>\n",
       "      <td>01</td>\n",
       "      <td>2020-03-28</td>\n",
       "      <td>7</td>\n",
       "      <td>3</td>\n",
       "      <td>1</td>\n",
       "      <td>3</td>\n",
       "      <td>81</td>\n",
       "      <td>13</td>\n",
       "      <td>3</td>\n",
       "      <td>21</td>\n",
       "    </tr>\n",
       "  </tbody>\n",
       "</table>\n",
       "</div>"
      ],
      "text/plain": [
       "  code_insee        date  incid_hosp  incid_rea  incid_dc  incid_rad  \\\n",
       "0         01  2020-03-19           1          0         0          0   \n",
       "1         01  2020-03-20           0          0         0          1   \n",
       "2         01  2020-03-21           4          0         0          0   \n",
       "3         01  2020-03-22           3          1         0          1   \n",
       "4         01  2020-03-23          14          1         0          5   \n",
       "5         01  2020-03-24          11          1         0          4   \n",
       "6         01  2020-03-25          13          2         0          5   \n",
       "7         01  2020-03-26          14          3         2          2   \n",
       "8         01  2020-03-27          14          2         0          0   \n",
       "9         01  2020-03-28           7          3         1          3   \n",
       "\n",
       "   c_incidence  c_reanim  c_deces  c_rad  \n",
       "0            1         0        0      0  \n",
       "1            1         0        0      1  \n",
       "2            5         0        0      1  \n",
       "3            8         1        0      2  \n",
       "4           22         2        0      7  \n",
       "5           33         3        0     11  \n",
       "6           46         5        0     16  \n",
       "7           60         8        2     18  \n",
       "8           74        10        2     18  \n",
       "9           81        13        3     21  "
      ]
     },
     "execution_count": 48,
     "metadata": {},
     "output_type": "execute_result"
    }
   ],
   "source": [
    "cases['c_incidence'] = cases['incid_hosp'].cumsum()\n",
    "cases['c_reanim'] = cases['incid_rea'].cumsum()\n",
    "cases['c_deces'] = cases['incid_dc'].cumsum()\n",
    "cases['c_rad'] = cases['incid_rad'].cumsum()\n",
    "cases.rename(columns={'jour':'date','dep':'code_insee'}, inplace=True)\n",
    "cases['date'] = pd.to_datetime(cases.date).apply(lambda x: x.date())\n",
    "cases.head(10)"
   ]
  },
  {
   "cell_type": "code",
   "execution_count": 49,
   "metadata": {},
   "outputs": [
    {
     "data": {
      "text/plain": [
       "(49,)"
      ]
     },
     "execution_count": 49,
     "metadata": {},
     "output_type": "execute_result"
    }
   ],
   "source": [
    "cases.date.unique().shape"
   ]
  },
  {
   "cell_type": "code",
   "execution_count": 50,
   "metadata": {},
   "outputs": [],
   "source": [
    "cases = cases.sort_values(by='date').reset_index()\n",
    "cases.drop(\"index\", inplace=True, axis=1)"
   ]
  },
  {
   "cell_type": "code",
   "execution_count": 51,
   "metadata": {},
   "outputs": [
    {
     "data": {
      "text/html": [
       "<div>\n",
       "<style scoped>\n",
       "    .dataframe tbody tr th:only-of-type {\n",
       "        vertical-align: middle;\n",
       "    }\n",
       "\n",
       "    .dataframe tbody tr th {\n",
       "        vertical-align: top;\n",
       "    }\n",
       "\n",
       "    .dataframe thead th {\n",
       "        text-align: right;\n",
       "    }\n",
       "</style>\n",
       "<table border=\"1\" class=\"dataframe\">\n",
       "  <thead>\n",
       "    <tr style=\"text-align: right;\">\n",
       "      <th></th>\n",
       "      <th>code_insee</th>\n",
       "      <th>date</th>\n",
       "      <th>incid_hosp</th>\n",
       "      <th>incid_rea</th>\n",
       "      <th>incid_dc</th>\n",
       "      <th>incid_rad</th>\n",
       "      <th>c_incidence</th>\n",
       "      <th>c_reanim</th>\n",
       "      <th>c_deces</th>\n",
       "      <th>c_rad</th>\n",
       "    </tr>\n",
       "  </thead>\n",
       "  <tbody>\n",
       "    <tr>\n",
       "      <th>4939</th>\n",
       "      <td>16</td>\n",
       "      <td>2020-05-06</td>\n",
       "      <td>0</td>\n",
       "      <td>0</td>\n",
       "      <td>0</td>\n",
       "      <td>1</td>\n",
       "      <td>10094</td>\n",
       "      <td>1473</td>\n",
       "      <td>1374</td>\n",
       "      <td>6087</td>\n",
       "    </tr>\n",
       "    <tr>\n",
       "      <th>4940</th>\n",
       "      <td>78</td>\n",
       "      <td>2020-05-06</td>\n",
       "      <td>16</td>\n",
       "      <td>0</td>\n",
       "      <td>2</td>\n",
       "      <td>13</td>\n",
       "      <td>70128</td>\n",
       "      <td>11955</td>\n",
       "      <td>11578</td>\n",
       "      <td>40771</td>\n",
       "    </tr>\n",
       "    <tr>\n",
       "      <th>4941</th>\n",
       "      <td>86</td>\n",
       "      <td>2020-05-06</td>\n",
       "      <td>0</td>\n",
       "      <td>0</td>\n",
       "      <td>1</td>\n",
       "      <td>1</td>\n",
       "      <td>73211</td>\n",
       "      <td>12478</td>\n",
       "      <td>12025</td>\n",
       "      <td>42663</td>\n",
       "    </tr>\n",
       "    <tr>\n",
       "      <th>4942</th>\n",
       "      <td>59</td>\n",
       "      <td>2020-05-06</td>\n",
       "      <td>33</td>\n",
       "      <td>6</td>\n",
       "      <td>16</td>\n",
       "      <td>64</td>\n",
       "      <td>36122</td>\n",
       "      <td>5900</td>\n",
       "      <td>5707</td>\n",
       "      <td>21085</td>\n",
       "    </tr>\n",
       "    <tr>\n",
       "      <th>4943</th>\n",
       "      <td>44</td>\n",
       "      <td>2020-05-06</td>\n",
       "      <td>6</td>\n",
       "      <td>0</td>\n",
       "      <td>1</td>\n",
       "      <td>9</td>\n",
       "      <td>23429</td>\n",
       "      <td>3767</td>\n",
       "      <td>3423</td>\n",
       "      <td>13879</td>\n",
       "    </tr>\n",
       "    <tr>\n",
       "      <th>4944</th>\n",
       "      <td>02</td>\n",
       "      <td>2020-05-06</td>\n",
       "      <td>20</td>\n",
       "      <td>1</td>\n",
       "      <td>1</td>\n",
       "      <td>18</td>\n",
       "      <td>1813</td>\n",
       "      <td>209</td>\n",
       "      <td>308</td>\n",
       "      <td>1096</td>\n",
       "    </tr>\n",
       "    <tr>\n",
       "      <th>4945</th>\n",
       "      <td>973</td>\n",
       "      <td>2020-05-06</td>\n",
       "      <td>0</td>\n",
       "      <td>0</td>\n",
       "      <td>0</td>\n",
       "      <td>0</td>\n",
       "      <td>99036</td>\n",
       "      <td>16333</td>\n",
       "      <td>16490</td>\n",
       "      <td>56192</td>\n",
       "    </tr>\n",
       "    <tr>\n",
       "      <th>4946</th>\n",
       "      <td>73</td>\n",
       "      <td>2020-05-06</td>\n",
       "      <td>1</td>\n",
       "      <td>0</td>\n",
       "      <td>1</td>\n",
       "      <td>1</td>\n",
       "      <td>53735</td>\n",
       "      <td>8725</td>\n",
       "      <td>8714</td>\n",
       "      <td>31348</td>\n",
       "    </tr>\n",
       "    <tr>\n",
       "      <th>4947</th>\n",
       "      <td>971</td>\n",
       "      <td>2020-05-06</td>\n",
       "      <td>0</td>\n",
       "      <td>0</td>\n",
       "      <td>0</td>\n",
       "      <td>0</td>\n",
       "      <td>98877</td>\n",
       "      <td>16302</td>\n",
       "      <td>16475</td>\n",
       "      <td>56074</td>\n",
       "    </tr>\n",
       "    <tr>\n",
       "      <th>4948</th>\n",
       "      <td>976</td>\n",
       "      <td>2020-05-06</td>\n",
       "      <td>8</td>\n",
       "      <td>1</td>\n",
       "      <td>1</td>\n",
       "      <td>6</td>\n",
       "      <td>99323</td>\n",
       "      <td>16361</td>\n",
       "      <td>16502</td>\n",
       "      <td>56421</td>\n",
       "    </tr>\n",
       "  </tbody>\n",
       "</table>\n",
       "</div>"
      ],
      "text/plain": [
       "     code_insee        date  incid_hosp  incid_rea  incid_dc  incid_rad  \\\n",
       "4939         16  2020-05-06           0          0         0          1   \n",
       "4940         78  2020-05-06          16          0         2         13   \n",
       "4941         86  2020-05-06           0          0         1          1   \n",
       "4942         59  2020-05-06          33          6        16         64   \n",
       "4943         44  2020-05-06           6          0         1          9   \n",
       "4944         02  2020-05-06          20          1         1         18   \n",
       "4945        973  2020-05-06           0          0         0          0   \n",
       "4946         73  2020-05-06           1          0         1          1   \n",
       "4947        971  2020-05-06           0          0         0          0   \n",
       "4948        976  2020-05-06           8          1         1          6   \n",
       "\n",
       "      c_incidence  c_reanim  c_deces  c_rad  \n",
       "4939        10094      1473     1374   6087  \n",
       "4940        70128     11955    11578  40771  \n",
       "4941        73211     12478    12025  42663  \n",
       "4942        36122      5900     5707  21085  \n",
       "4943        23429      3767     3423  13879  \n",
       "4944         1813       209      308   1096  \n",
       "4945        99036     16333    16490  56192  \n",
       "4946        53735      8725     8714  31348  \n",
       "4947        98877     16302    16475  56074  \n",
       "4948        99323     16361    16502  56421  "
      ]
     },
     "execution_count": 51,
     "metadata": {},
     "output_type": "execute_result"
    }
   ],
   "source": [
    "cases.tail(10)"
   ]
  },
  {
   "cell_type": "code",
   "execution_count": 63,
   "metadata": {},
   "outputs": [],
   "source": [
    "cases_regrouped =  cases.groupby(['date'], as_index = False).agg({\n",
    "    'incid_hosp':'sum',\n",
    "    'incid_dc':'sum'\n",
    "})\n",
    "dates =cases_regrouped.date\n"
   ]
  },
  {
   "cell_type": "code",
   "execution_count": 64,
   "metadata": {},
   "outputs": [
    {
     "data": {
      "image/png": "[encoded data removed]",
      "text/plain": [
       "<Figure size 432x288 with 1 Axes>"
      ]
     },
     "metadata": {
      "needs_background": "light"
     },
     "output_type": "display_data"
    }
   ],
   "source": [
    "plt.yscale('linear')\n",
    "plt.plot_date(dates, cases_regrouped[['incid_hosp']])#,'c_reanim','c_deces','c_rad']])\n",
    "plt.show()"
   ]
  },
  {
   "cell_type": "code",
   "execution_count": 66,
   "metadata": {
    "scrolled": true
   },
   "outputs": [
    {
     "data": {
      "image/png": "[encoded data removed]",
      "text/plain": [
       "<Figure size 432x288 with 1 Axes>"
      ]
     },
     "metadata": {
      "needs_background": "light"
     },
     "output_type": "display_data"
    }
   ],
   "source": [
    "plt.plot_date(dates, cases_regrouped[['incid_dc']])\n",
    "plt.show()"
   ]
  },
  {
   "cell_type": "code",
   "execution_count": 68,
   "metadata": {},
   "outputs": [],
   "source": [
    "cases['date'] = pd.to_datetime(cases.date)\n",
    "#cases.date..apply(lambda x: x.date())\n"
   ]
  },
  {
   "cell_type": "code",
   "execution_count": 69,
   "metadata": {},
   "outputs": [],
   "source": [
    "cases.to_csv('incidence.csv')"
   ]
  },
  {
   "cell_type": "markdown",
   "metadata": {},
   "source": [
    "# Merging daily Covid-19 case data with daily departmental movement data"
   ]
  },
  {
   "cell_type": "code",
   "execution_count": 423,
   "metadata": {},
   "outputs": [],
   "source": [
    "data = pd.merge(cases, merged_by_date, how = 'outer', on = ['date','code_insee'])"
   ]
  },
  {
   "cell_type": "code",
   "execution_count": 437,
   "metadata": {},
   "outputs": [
    {
     "data": {
      "text/html": [
       "<div>\n",
       "<style scoped>\n",
       "    .dataframe tbody tr th:only-of-type {\n",
       "        vertical-align: middle;\n",
       "    }\n",
       "\n",
       "    .dataframe tbody tr th {\n",
       "        vertical-align: top;\n",
       "    }\n",
       "\n",
       "    .dataframe thead th {\n",
       "        text-align: right;\n",
       "    }\n",
       "</style>\n",
       "<table border=\"1\" class=\"dataframe\">\n",
       "  <thead>\n",
       "    <tr style=\"text-align: right;\">\n",
       "      <th></th>\n",
       "      <th>code_insee</th>\n",
       "      <th>incid_hosp</th>\n",
       "      <th>incid_rea</th>\n",
       "      <th>incid_dc</th>\n",
       "      <th>incid_rad</th>\n",
       "      <th>c_incidence</th>\n",
       "      <th>c_reanim</th>\n",
       "      <th>c_deces</th>\n",
       "      <th>c_rad</th>\n",
       "      <th>intra_mean_indegree</th>\n",
       "      <th>intra_node_count</th>\n",
       "      <th>intra_move</th>\n",
       "      <th>intra_move_base</th>\n",
       "      <th>intra_move_diff</th>\n",
       "      <th>intra_end_density</th>\n",
       "      <th>intra_end_dens_base</th>\n",
       "      <th>intra_start_density</th>\n",
       "      <th>intra_start_dens_base</th>\n",
       "      <th>inter_dept_move_length</th>\n",
       "      <th>inter_dept_move</th>\n",
       "      <th>inter_dept_move_base</th>\n",
       "      <th>inter_dept_move_diff</th>\n",
       "      <th>inter_dept_move_percent_change</th>\n",
       "    </tr>\n",
       "    <tr>\n",
       "      <th>date</th>\n",
       "      <th></th>\n",
       "      <th></th>\n",
       "      <th></th>\n",
       "      <th></th>\n",
       "      <th></th>\n",
       "      <th></th>\n",
       "      <th></th>\n",
       "      <th></th>\n",
       "      <th></th>\n",
       "      <th></th>\n",
       "      <th></th>\n",
       "      <th></th>\n",
       "      <th></th>\n",
       "      <th></th>\n",
       "      <th></th>\n",
       "      <th></th>\n",
       "      <th></th>\n",
       "      <th></th>\n",
       "      <th></th>\n",
       "      <th></th>\n",
       "      <th></th>\n",
       "      <th></th>\n",
       "      <th></th>\n",
       "    </tr>\n",
       "  </thead>\n",
       "  <tbody>\n",
       "    <tr>\n",
       "      <th>2020-03-04</th>\n",
       "      <td>47</td>\n",
       "      <td>NaN</td>\n",
       "      <td>NaN</td>\n",
       "      <td>NaN</td>\n",
       "      <td>NaN</td>\n",
       "      <td>NaN</td>\n",
       "      <td>NaN</td>\n",
       "      <td>NaN</td>\n",
       "      <td>NaN</td>\n",
       "      <td>4.519737</td>\n",
       "      <td>54.0</td>\n",
       "      <td>4380.0</td>\n",
       "      <td>4808.0</td>\n",
       "      <td>-428.0</td>\n",
       "      <td>38160.0</td>\n",
       "      <td>37960.036955</td>\n",
       "      <td>25616.0</td>\n",
       "      <td>25898.950556</td>\n",
       "      <td>47.707669</td>\n",
       "      <td>49.0</td>\n",
       "      <td>46.8</td>\n",
       "      <td>2.2</td>\n",
       "      <td>11.194978</td>\n",
       "    </tr>\n",
       "    <tr>\n",
       "      <th>2020-03-04</th>\n",
       "      <td>72</td>\n",
       "      <td>NaN</td>\n",
       "      <td>NaN</td>\n",
       "      <td>NaN</td>\n",
       "      <td>NaN</td>\n",
       "      <td>NaN</td>\n",
       "      <td>NaN</td>\n",
       "      <td>NaN</td>\n",
       "      <td>NaN</td>\n",
       "      <td>4.718750</td>\n",
       "      <td>100.0</td>\n",
       "      <td>7249.0</td>\n",
       "      <td>6948.8</td>\n",
       "      <td>300.2</td>\n",
       "      <td>726263.0</td>\n",
       "      <td>698016.183414</td>\n",
       "      <td>338906.0</td>\n",
       "      <td>327346.118368</td>\n",
       "      <td>3278.285698</td>\n",
       "      <td>7711.0</td>\n",
       "      <td>7340.6</td>\n",
       "      <td>370.4</td>\n",
       "      <td>1484.661541</td>\n",
       "    </tr>\n",
       "    <tr>\n",
       "      <th>2020-03-04</th>\n",
       "      <td>52</td>\n",
       "      <td>NaN</td>\n",
       "      <td>NaN</td>\n",
       "      <td>NaN</td>\n",
       "      <td>NaN</td>\n",
       "      <td>NaN</td>\n",
       "      <td>NaN</td>\n",
       "      <td>NaN</td>\n",
       "      <td>NaN</td>\n",
       "      <td>7.773810</td>\n",
       "      <td>57.0</td>\n",
       "      <td>5050.0</td>\n",
       "      <td>4634.6</td>\n",
       "      <td>415.4</td>\n",
       "      <td>38170.0</td>\n",
       "      <td>37438.055283</td>\n",
       "      <td>41483.0</td>\n",
       "      <td>41174.906659</td>\n",
       "      <td>229.382215</td>\n",
       "      <td>189.0</td>\n",
       "      <td>179.6</td>\n",
       "      <td>9.4</td>\n",
       "      <td>92.148903</td>\n",
       "    </tr>\n",
       "    <tr>\n",
       "      <th>2020-03-04</th>\n",
       "      <td>53</td>\n",
       "      <td>NaN</td>\n",
       "      <td>NaN</td>\n",
       "      <td>NaN</td>\n",
       "      <td>NaN</td>\n",
       "      <td>NaN</td>\n",
       "      <td>NaN</td>\n",
       "      <td>NaN</td>\n",
       "      <td>NaN</td>\n",
       "      <td>8.356322</td>\n",
       "      <td>67.0</td>\n",
       "      <td>6031.0</td>\n",
       "      <td>5717.2</td>\n",
       "      <td>313.8</td>\n",
       "      <td>133814.0</td>\n",
       "      <td>127962.614949</td>\n",
       "      <td>138524.0</td>\n",
       "      <td>135322.264388</td>\n",
       "      <td>344.228425</td>\n",
       "      <td>721.0</td>\n",
       "      <td>719.4</td>\n",
       "      <td>1.6</td>\n",
       "      <td>-20.751485</td>\n",
       "    </tr>\n",
       "    <tr>\n",
       "      <th>2020-03-04</th>\n",
       "      <td>40</td>\n",
       "      <td>NaN</td>\n",
       "      <td>NaN</td>\n",
       "      <td>NaN</td>\n",
       "      <td>NaN</td>\n",
       "      <td>NaN</td>\n",
       "      <td>NaN</td>\n",
       "      <td>NaN</td>\n",
       "      <td>NaN</td>\n",
       "      <td>8.409958</td>\n",
       "      <td>92.0</td>\n",
       "      <td>6584.0</td>\n",
       "      <td>7415.0</td>\n",
       "      <td>-831.0</td>\n",
       "      <td>115535.0</td>\n",
       "      <td>117875.904730</td>\n",
       "      <td>73384.0</td>\n",
       "      <td>74546.771765</td>\n",
       "      <td>3003.550350</td>\n",
       "      <td>4314.0</td>\n",
       "      <td>4753.4</td>\n",
       "      <td>-439.4</td>\n",
       "      <td>-612.571051</td>\n",
       "    </tr>\n",
       "    <tr>\n",
       "      <th>2020-03-04</th>\n",
       "      <td>71</td>\n",
       "      <td>NaN</td>\n",
       "      <td>NaN</td>\n",
       "      <td>NaN</td>\n",
       "      <td>NaN</td>\n",
       "      <td>NaN</td>\n",
       "      <td>NaN</td>\n",
       "      <td>NaN</td>\n",
       "      <td>NaN</td>\n",
       "      <td>26.236538</td>\n",
       "      <td>119.0</td>\n",
       "      <td>30712.0</td>\n",
       "      <td>32001.4</td>\n",
       "      <td>-1289.4</td>\n",
       "      <td>247727.0</td>\n",
       "      <td>254606.877092</td>\n",
       "      <td>275723.0</td>\n",
       "      <td>283437.714556</td>\n",
       "      <td>1929.618295</td>\n",
       "      <td>1698.0</td>\n",
       "      <td>1637.8</td>\n",
       "      <td>60.2</td>\n",
       "      <td>356.440034</td>\n",
       "    </tr>\n",
       "    <tr>\n",
       "      <th>2020-03-04</th>\n",
       "      <td>29</td>\n",
       "      <td>NaN</td>\n",
       "      <td>NaN</td>\n",
       "      <td>NaN</td>\n",
       "      <td>NaN</td>\n",
       "      <td>NaN</td>\n",
       "      <td>NaN</td>\n",
       "      <td>NaN</td>\n",
       "      <td>NaN</td>\n",
       "      <td>3.792289</td>\n",
       "      <td>91.0</td>\n",
       "      <td>5940.0</td>\n",
       "      <td>5785.0</td>\n",
       "      <td>155.0</td>\n",
       "      <td>368875.0</td>\n",
       "      <td>355729.926330</td>\n",
       "      <td>231693.0</td>\n",
       "      <td>224571.314701</td>\n",
       "      <td>49.102262</td>\n",
       "      <td>56.0</td>\n",
       "      <td>55.4</td>\n",
       "      <td>0.6</td>\n",
       "      <td>20.531798</td>\n",
       "    </tr>\n",
       "    <tr>\n",
       "      <th>2020-03-04</th>\n",
       "      <td>87</td>\n",
       "      <td>NaN</td>\n",
       "      <td>NaN</td>\n",
       "      <td>NaN</td>\n",
       "      <td>NaN</td>\n",
       "      <td>NaN</td>\n",
       "      <td>NaN</td>\n",
       "      <td>NaN</td>\n",
       "      <td>NaN</td>\n",
       "      <td>3.176344</td>\n",
       "      <td>46.0</td>\n",
       "      <td>2131.0</td>\n",
       "      <td>2518.8</td>\n",
       "      <td>-387.8</td>\n",
       "      <td>375027.0</td>\n",
       "      <td>401365.457836</td>\n",
       "      <td>155150.0</td>\n",
       "      <td>165992.525788</td>\n",
       "      <td>131.462389</td>\n",
       "      <td>31.0</td>\n",
       "      <td>28.8</td>\n",
       "      <td>2.2</td>\n",
       "      <td>11.702128</td>\n",
       "    </tr>\n",
       "    <tr>\n",
       "      <th>2020-03-04</th>\n",
       "      <td>25</td>\n",
       "      <td>NaN</td>\n",
       "      <td>NaN</td>\n",
       "      <td>NaN</td>\n",
       "      <td>NaN</td>\n",
       "      <td>NaN</td>\n",
       "      <td>NaN</td>\n",
       "      <td>NaN</td>\n",
       "      <td>NaN</td>\n",
       "      <td>7.229324</td>\n",
       "      <td>126.0</td>\n",
       "      <td>9991.0</td>\n",
       "      <td>10570.6</td>\n",
       "      <td>-579.6</td>\n",
       "      <td>376307.0</td>\n",
       "      <td>392788.134101</td>\n",
       "      <td>364008.0</td>\n",
       "      <td>379317.025405</td>\n",
       "      <td>1086.906312</td>\n",
       "      <td>1094.0</td>\n",
       "      <td>1196.2</td>\n",
       "      <td>-102.2</td>\n",
       "      <td>-405.935030</td>\n",
       "    </tr>\n",
       "    <tr>\n",
       "      <th>2020-03-04</th>\n",
       "      <td>70</td>\n",
       "      <td>NaN</td>\n",
       "      <td>NaN</td>\n",
       "      <td>NaN</td>\n",
       "      <td>NaN</td>\n",
       "      <td>NaN</td>\n",
       "      <td>NaN</td>\n",
       "      <td>NaN</td>\n",
       "      <td>NaN</td>\n",
       "      <td>5.830409</td>\n",
       "      <td>46.0</td>\n",
       "      <td>2072.0</td>\n",
       "      <td>2193.6</td>\n",
       "      <td>-121.6</td>\n",
       "      <td>16958.0</td>\n",
       "      <td>16885.274035</td>\n",
       "      <td>16834.0</td>\n",
       "      <td>16744.121933</td>\n",
       "      <td>366.879206</td>\n",
       "      <td>340.0</td>\n",
       "      <td>377.2</td>\n",
       "      <td>-37.2</td>\n",
       "      <td>-123.981142</td>\n",
       "    </tr>\n",
       "  </tbody>\n",
       "</table>\n",
       "</div>"
      ],
      "text/plain": [
       "           code_insee  incid_hosp  incid_rea  incid_dc  incid_rad  \\\n",
       "date                                                                \n",
       "2020-03-04         47         NaN        NaN       NaN        NaN   \n",
       "2020-03-04         72         NaN        NaN       NaN        NaN   \n",
       "2020-03-04         52         NaN        NaN       NaN        NaN   \n",
       "2020-03-04         53         NaN        NaN       NaN        NaN   \n",
       "2020-03-04         40         NaN        NaN       NaN        NaN   \n",
       "2020-03-04         71         NaN        NaN       NaN        NaN   \n",
       "2020-03-04         29         NaN        NaN       NaN        NaN   \n",
       "2020-03-04         87         NaN        NaN       NaN        NaN   \n",
       "2020-03-04         25         NaN        NaN       NaN        NaN   \n",
       "2020-03-04         70         NaN        NaN       NaN        NaN   \n",
       "\n",
       "            c_incidence  c_reanim  c_deces  c_rad  intra_mean_indegree  \\\n",
       "date                                                                     \n",
       "2020-03-04          NaN       NaN      NaN    NaN             4.519737   \n",
       "2020-03-04          NaN       NaN      NaN    NaN             4.718750   \n",
       "2020-03-04          NaN       NaN      NaN    NaN             7.773810   \n",
       "2020-03-04          NaN       NaN      NaN    NaN             8.356322   \n",
       "2020-03-04          NaN       NaN      NaN    NaN             8.409958   \n",
       "2020-03-04          NaN       NaN      NaN    NaN            26.236538   \n",
       "2020-03-04          NaN       NaN      NaN    NaN             3.792289   \n",
       "2020-03-04          NaN       NaN      NaN    NaN             3.176344   \n",
       "2020-03-04          NaN       NaN      NaN    NaN             7.229324   \n",
       "2020-03-04          NaN       NaN      NaN    NaN             5.830409   \n",
       "\n",
       "            intra_node_count  intra_move  intra_move_base  intra_move_diff  \\\n",
       "date                                                                         \n",
       "2020-03-04              54.0      4380.0           4808.0           -428.0   \n",
       "2020-03-04             100.0      7249.0           6948.8            300.2   \n",
       "2020-03-04              57.0      5050.0           4634.6            415.4   \n",
       "2020-03-04              67.0      6031.0           5717.2            313.8   \n",
       "2020-03-04              92.0      6584.0           7415.0           -831.0   \n",
       "2020-03-04             119.0     30712.0          32001.4          -1289.4   \n",
       "2020-03-04              91.0      5940.0           5785.0            155.0   \n",
       "2020-03-04              46.0      2131.0           2518.8           -387.8   \n",
       "2020-03-04             126.0      9991.0          10570.6           -579.6   \n",
       "2020-03-04              46.0      2072.0           2193.6           -121.6   \n",
       "\n",
       "            intra_end_density  intra_end_dens_base  intra_start_density  \\\n",
       "date                                                                      \n",
       "2020-03-04            38160.0         37960.036955              25616.0   \n",
       "2020-03-04           726263.0        698016.183414             338906.0   \n",
       "2020-03-04            38170.0         37438.055283              41483.0   \n",
       "2020-03-04           133814.0        127962.614949             138524.0   \n",
       "2020-03-04           115535.0        117875.904730              73384.0   \n",
       "2020-03-04           247727.0        254606.877092             275723.0   \n",
       "2020-03-04           368875.0        355729.926330             231693.0   \n",
       "2020-03-04           375027.0        401365.457836             155150.0   \n",
       "2020-03-04           376307.0        392788.134101             364008.0   \n",
       "2020-03-04            16958.0         16885.274035              16834.0   \n",
       "\n",
       "            intra_start_dens_base  inter_dept_move_length  inter_dept_move  \\\n",
       "date                                                                         \n",
       "2020-03-04           25898.950556               47.707669             49.0   \n",
       "2020-03-04          327346.118368             3278.285698           7711.0   \n",
       "2020-03-04           41174.906659              229.382215            189.0   \n",
       "2020-03-04          135322.264388              344.228425            721.0   \n",
       "2020-03-04           74546.771765             3003.550350           4314.0   \n",
       "2020-03-04          283437.714556             1929.618295           1698.0   \n",
       "2020-03-04          224571.314701               49.102262             56.0   \n",
       "2020-03-04          165992.525788              131.462389             31.0   \n",
       "2020-03-04          379317.025405             1086.906312           1094.0   \n",
       "2020-03-04           16744.121933              366.879206            340.0   \n",
       "\n",
       "            inter_dept_move_base  inter_dept_move_diff  \\\n",
       "date                                                     \n",
       "2020-03-04                  46.8                   2.2   \n",
       "2020-03-04                7340.6                 370.4   \n",
       "2020-03-04                 179.6                   9.4   \n",
       "2020-03-04                 719.4                   1.6   \n",
       "2020-03-04                4753.4                -439.4   \n",
       "2020-03-04                1637.8                  60.2   \n",
       "2020-03-04                  55.4                   0.6   \n",
       "2020-03-04                  28.8                   2.2   \n",
       "2020-03-04                1196.2                -102.2   \n",
       "2020-03-04                 377.2                 -37.2   \n",
       "\n",
       "            inter_dept_move_percent_change  \n",
       "date                                        \n",
       "2020-03-04                       11.194978  \n",
       "2020-03-04                     1484.661541  \n",
       "2020-03-04                       92.148903  \n",
       "2020-03-04                      -20.751485  \n",
       "2020-03-04                     -612.571051  \n",
       "2020-03-04                      356.440034  \n",
       "2020-03-04                       20.531798  \n",
       "2020-03-04                       11.702128  \n",
       "2020-03-04                     -405.935030  \n",
       "2020-03-04                     -123.981142  "
      ]
     },
     "execution_count": 437,
     "metadata": {},
     "output_type": "execute_result"
    }
   ],
   "source": [
    "data.head(10)"
   ]
  },
  {
   "cell_type": "markdown",
   "metadata": {},
   "source": [
    "In this (currently) final data table, the following columns are potential prediction targets:\n",
    "- incid_hosp, incidence hospitalière, number of patients coming to the hospital (positives?)\n",
    "- incid_rea, number of patients entering reanimation units (ICUs)\t\n",
    "- incid_dc, number of deceased\t\n",
    "- incid_rad, number of patients returning home\t\n",
    "\n",
    "The following are also potential prediction targets, that are cumulative versions of the previous variables\n",
    "- c_incidence, \t\n",
    "- c_reanim\t\n",
    "- c_deces\t\n",
    "- c_ra\n",
    "    "
   ]
  },
  {
   "cell_type": "code",
   "execution_count": 436,
   "metadata": {},
   "outputs": [],
   "source": [
    "data.set_index('date', inplace=True)"
   ]
  },
  {
   "cell_type": "code",
   "execution_count": 426,
   "metadata": {},
   "outputs": [],
   "source": [
    "data = data.sort_values(by='date').reset_index()\n",
    "data.drop(\"index\", inplace=True, axis=1)"
   ]
  },
  {
   "cell_type": "code",
   "execution_count": 438,
   "metadata": {},
   "outputs": [],
   "source": [
    "data.to_csv('data2.csv')"
   ]
  },
  {
   "cell_type": "code",
   "execution_count": null,
   "metadata": {},
   "outputs": [],
   "source": []
  },
  {
   "cell_type": "code",
   "execution_count": null,
   "metadata": {},
   "outputs": [],
   "source": []
  }
 ],
 "metadata": {
  "kernelspec": {
   "display_name": "Python 3",
   "language": "python",
   "name": "python3"
  },
  "language_info": {
   "codemirror_mode": {
    "name": "ipython",
    "version": 3
   },
   "file_extension": ".py",
   "mimetype": "text/x-python",
   "name": "python",
   "nbconvert_exporter": "python",
   "pygments_lexer": "ipython3",
   "version": "3.7.3"
  }
 },
 "nbformat": 4,
 "nbformat_minor": 2
}
