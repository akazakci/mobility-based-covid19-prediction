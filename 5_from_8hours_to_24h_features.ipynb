{
 "cells": [
  {
   "cell_type": "markdown",
   "metadata": {},
   "source": [
    "# Convert graph features from 8 hour slices to daily features"
   ]
  },
  {
   "cell_type": "markdown",
   "metadata": {},
   "source": [
    "_Akin Kazakci, Mines ParisTech - PSL University_"
   ]
  },
  {
   "cell_type": "markdown",
   "metadata": {},
   "source": [
    "Input:\n",
    "- centrality_stats.csv (from notebook 4; graph statistics per 8 hours)\n",
    "\n",
    "Output:\n",
    "- graph_stats_dept_by_date.csv (graph statistics per day)"
   ]
  },
  {
   "cell_type": "code",
   "execution_count": 1,
   "metadata": {},
   "outputs": [],
   "source": [
    "import pandas as pd\n",
    "import matplotlib.pyplot as plt \n",
    "%matplotlib inline\n",
    "import matplotlib\n",
    "import numpy as np"
   ]
  },
  {
   "cell_type": "code",
   "execution_count": 2,
   "metadata": {},
   "outputs": [],
   "source": [
    "# file from 4_graph_features notebook\n",
    "graph_stats = pd.read_csv('centrality_stats.csv', index_col = 0)"
   ]
  },
  {
   "cell_type": "code",
   "execution_count": 3,
   "metadata": {},
   "outputs": [
    {
     "data": {
      "text/plain": [
       "Index(['date_time', 'code_insee', 'betweenness_centrality',\n",
       "       'closeness_centrality', 'degree_centrality', 'eigenvector_centrality'],\n",
       "      dtype='object')"
      ]
     },
     "execution_count": 3,
     "metadata": {},
     "output_type": "execute_result"
    }
   ],
   "source": [
    "(graph_stats.columns)"
   ]
  },
  {
   "cell_type": "code",
   "execution_count": 4,
   "metadata": {},
   "outputs": [],
   "source": [
    "graph_stats['date'] = pd.to_datetime(graph_stats.date_time).apply(lambda x: x.date())\n",
    "graph_stats['time'] = pd.to_datetime(graph_stats.date_time).apply(lambda x: x.time())"
   ]
  },
  {
   "cell_type": "code",
   "execution_count": 7,
   "metadata": {},
   "outputs": [
    {
     "data": {
      "text/plain": [
       "array([datetime.time(0, 0), datetime.time(8, 0), datetime.time(16, 0)],\n",
       "      dtype=object)"
      ]
     },
     "execution_count": 7,
     "metadata": {},
     "output_type": "execute_result"
    }
   ],
   "source": [
    "graph_stats.time.unique()"
   ]
  },
  {
   "cell_type": "code",
   "execution_count": null,
   "metadata": {},
   "outputs": [],
   "source": [
    "cols =  ['betweenness_centrality', 'closeness_centrality', \n",
    "       'degree_centrality', 'eigenvector_centrality']\n"
   ]
  },
  {
   "cell_type": "code",
   "execution_count": null,
   "metadata": {},
   "outputs": [],
   "source": [
    "# Helper function to flatten 8 hour sliced data structure\n",
    "def flat(l):\n",
    "    flat_list = [item for sublist in l for item in sublist]\n",
    "    return flat_list"
   ]
  },
  {
   "cell_type": "code",
   "execution_count": null,
   "metadata": {},
   "outputs": [],
   "source": [
    "# Let us regroup data per day and department\n",
    "m_groups = graph_stats.groupby(['code_insee','date'])\n",
    "to_be_framed = []\n",
    "count = 0\n",
    "\n",
    "for name, group in m_groups:\n",
    "    \n",
    "    count +=1\n",
    "    #print(count)\n",
    "    blist = [name[0],name[1]]\n",
    "    \n",
    "    row_list =[] \n",
    "    for rows in group.itertuples(): \n",
    "    # Create list for the current row \n",
    "        #print(rows.time)\n",
    "        a_list =[rows.betweenness_centrality,\n",
    "                 rows.closeness_centrality,\n",
    "                 rows.degree_centrality,\n",
    "                 rows.eigenvector_centrality\n",
    "                 ]\n",
    "\n",
    "        # append the list to the final list \n",
    "        row_list.extend(a_list) \n",
    "        #row_list = flat(row_list)\n",
    "    \n",
    "    # Print the list \n",
    "    #print(row_list) \n",
    "    to_be_framed.append([blist,row_list])"
   ]
  },
  {
   "cell_type": "code",
   "execution_count": null,
   "metadata": {},
   "outputs": [],
   "source": [
    "cola = ['betweenness_centrality-16_0',\n",
    " 'closeness_centrality-16_0',\n",
    " 'degree_centrality-16_0',\n",
    " 'eigenvector_centrality-16_0',\n",
    " 'betweenness_centrality-0_8',\n",
    " 'closeness_centrality-0_8',\n",
    " 'degree_centrality-0_8',\n",
    " 'eigenvector_centrality-0_8',\n",
    " 'betweenness_centrality-8_16',\n",
    " 'closeness_centrality-8_16',\n",
    " 'degree_centrality-8_16',\n",
    " 'eigenvector_centrality-8_16']\n",
    "to_be_framed = pd.DataFrame(to_be_framed)"
   ]
  },
  {
   "cell_type": "code",
   "execution_count": null,
   "metadata": {},
   "outputs": [],
   "source": [
    "to_be_framed"
   ]
  },
  {
   "cell_type": "code",
   "execution_count": null,
   "metadata": {},
   "outputs": [],
   "source": [
    "frame_again = []\n",
    "for i,r in to_be_framed.iterrows():\n",
    "    print (r.iloc[0])\n",
    "    alist = r.iloc[0]\n",
    "    #print ('LEN',len(r.iloc[1]))\n",
    "    alist.extend(r.iloc[1])\n",
    "    #print(alist)\n",
    "    frame_again.append(alist)"
   ]
  },
  {
   "cell_type": "code",
   "execution_count": null,
   "metadata": {},
   "outputs": [],
   "source": [
    "pd.options.display.max_rows = 5000\n",
    "frame_again = pd.DataFrame(frame_again)\n",
    "frame_again.columns =  ['code_insee', 'date','betweenness_centrality-16_0',\n",
    " 'closeness_centrality-16_0',\n",
    " 'degree_centrality-16_0',\n",
    " 'eigenvector_centrality-16_0',\n",
    " 'betweenness_centrality-0_8',\n",
    " 'closeness_centrality-0_8',\n",
    " 'degree_centrality-0_8',\n",
    " 'eigenvector_centrality-0_8',\n",
    " 'betweenness_centrality-8_16',\n",
    " 'closeness_centrality-8_16',\n",
    " 'degree_centrality-8_16',\n",
    " 'eigenvector_centrality-8_16']"
   ]
  },
  {
   "cell_type": "code",
   "execution_count": null,
   "metadata": {},
   "outputs": [],
   "source": [
    "frame_again"
   ]
  },
  {
   "cell_type": "markdown",
   "metadata": {},
   "source": [
    "# New columns we want"
   ]
  },
  {
   "cell_type": "code",
   "execution_count": null,
   "metadata": {},
   "outputs": [],
   "source": [
    "frame_again.to_csv('graph_stats_dept_by_date.csv')"
   ]
  },
  {
   "cell_type": "code",
   "execution_count": null,
   "metadata": {},
   "outputs": [],
   "source": []
  },
  {
   "cell_type": "code",
   "execution_count": null,
   "metadata": {},
   "outputs": [],
   "source": []
  }
 ],
 "metadata": {
  "kernelspec": {
   "display_name": "Python 3",
   "language": "python",
   "name": "python3"
  },
  "language_info": {
   "codemirror_mode": {
    "name": "ipython",
    "version": 3
   },
   "file_extension": ".py",
   "mimetype": "text/x-python",
   "name": "python",
   "nbconvert_exporter": "python",
   "pygments_lexer": "ipython3",
   "version": "3.7.3"
  }
 },
 "nbformat": 4,
 "nbformat_minor": 2
}
